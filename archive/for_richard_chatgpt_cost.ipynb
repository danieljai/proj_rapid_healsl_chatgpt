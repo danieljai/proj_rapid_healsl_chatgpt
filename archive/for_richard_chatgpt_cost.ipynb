{
 "cells": [
  {
   "cell_type": "code",
   "execution_count": 1,
   "metadata": {},
   "outputs": [],
   "source": [
    "import os\n",
    "import pandas as pd\n",
    "import textwrap\n",
    "\n",
    "root = os.path.join(\"..\")\n",
    "\n",
    "# Loading round 1 data\n",
    "narrative_file_path = os.path.join(root, \"heal_sl\", \"external_3_20231215\", \"adult\", f\"healsl_rd1_adult_narrative_v1.csv\")\n",
    "narrative_df = pd.read_csv(narrative_file_path)\n",
    "narrative_df = narrative_df.rename(columns={'summary': 'open_narrative'})\n",
    "narrative_adult_r1 = narrative_df[['rowid','open_narrative']]\n",
    "\n",
    "narrative_file_path = os.path.join(root, \"heal_sl\", \"external_3_20231215\", \"child\", f\"healsl_rd1_child_narrative_v1_uid.csv\")\n",
    "narrative_df = pd.read_csv(narrative_file_path)\n",
    "narrative_df = narrative_df.rename(columns={'summary': 'open_narrative'})\n",
    "narrative_child_r1 = narrative_df[['rowid','open_narrative']]\n",
    "\n",
    "narrative_file_path = os.path.join(root, \"heal_sl\", \"external_3_20231215\", \"neo\", f\"healsl_rd1_neo_narrative_v1_uid.csv\")\n",
    "narrative_df = pd.read_csv(narrative_file_path)\n",
    "narrative_df = narrative_df.rename(columns={'summary': 'open_narrative'})\n",
    "narrative_neonate_r1 = narrative_df[['rowid','open_narrative']]\n",
    "\n",
    "# Loading round 2 data\n",
    "\n",
    "narrative_file_path = os.path.join(root, \"heal_sl\", \"external_3_20231215\", \"adult\", f\"healsl_rd2_adult_narrative_v1.csv\")\n",
    "narrative_df = pd.read_csv(narrative_file_path)\n",
    "narrative_df = narrative_df.rename(columns={'summary': 'open_narrative'})\n",
    "narrative_adult_r2 = narrative_df[['rowid','open_narrative']]\n",
    "\n",
    "narrative_file_path = os.path.join(root, \"heal_sl\", \"external_3_20231215\", \"child\", f\"healsl_rd2_child_narrative_v1_uid.csv\")\n",
    "narrative_df = pd.read_csv(narrative_file_path)\n",
    "narrative_df = narrative_df.rename(columns={'summary': 'open_narrative'})\n",
    "narrative_child_r2 = narrative_df[['rowid','open_narrative']]\n",
    "\n",
    "narrative_file_path = os.path.join(root, \"heal_sl\", \"external_3_20231215\", \"neo\", f\"healsl_rd2_neo_narrative_v1_uid.csv\")\n",
    "narrative_df = pd.read_csv(narrative_file_path)\n",
    "narrative_df = narrative_df.rename(columns={'summary': 'open_narrative'})\n",
    "narrative_neonate_r2 = narrative_df[['rowid','open_narrative']]\n",
    "\n",
    "\n"
   ]
  },
  {
   "cell_type": "code",
   "execution_count": 2,
   "metadata": {},
   "outputs": [],
   "source": [
    "narrative_adult = pd.concat([narrative_adult_r1, narrative_adult_r2])\n",
    "narrative_child = pd.concat([narrative_child_r1, narrative_child_r2])\n",
    "narrative_neonate = pd.concat([narrative_neonate_r1, narrative_neonate_r2])\n"
   ]
  },
  {
   "cell_type": "code",
   "execution_count": 3,
   "metadata": {},
   "outputs": [],
   "source": [
    "prepend_prompt = \"Determine the underlying cause of death and provide a ICD-10 code for the following narrative based on a verbal autopsy of a death in Sierra Leone\"\n",
    "\n",
    "narrative_adult['open_narrative_prompt'] = prepend_prompt + ' ' + narrative_adult['open_narrative']\n",
    "narrative_child['open_narrative_prompt'] = prepend_prompt + ' ' + narrative_child['open_narrative']\n",
    "narrative_neonate['open_narrative_prompt'] = prepend_prompt + ' ' + narrative_neonate['open_narrative']\n"
   ]
  },
  {
   "cell_type": "code",
   "execution_count": 4,
   "metadata": {},
   "outputs": [],
   "source": [
    "narrative_adult['character_count'] = narrative_adult['open_narrative_prompt'].apply(lambda x: (len(str(x))) // 4)\n",
    "narrative_child['character_count'] = narrative_child['open_narrative_prompt'].apply(lambda x: (len(str(x))) // 4)\n",
    "narrative_neonate['character_count'] = narrative_neonate['open_narrative_prompt'].apply(lambda x: (len(str(x))) // 4)\n"
   ]
  },
  {
   "cell_type": "code",
   "execution_count": 5,
   "metadata": {},
   "outputs": [
    {
     "name": "stdout",
     "output_type": "stream",
     "text": [
      "count    7012.000000\n",
      "mean      382.822590\n",
      "std       151.685916\n",
      "min       112.000000\n",
      "25%       275.000000\n",
      "50%       356.000000\n",
      "75%       459.000000\n",
      "max      1623.000000\n",
      "Name: character_count, dtype: float64\n",
      "count    4057.000000\n",
      "mean      365.484841\n",
      "std       134.706683\n",
      "min       113.000000\n",
      "25%       270.000000\n",
      "50%       344.000000\n",
      "75%       434.000000\n",
      "max      1326.000000\n",
      "Name: character_count, dtype: float64\n",
      "count    818.000000\n",
      "mean     391.689487\n",
      "std      127.965873\n",
      "min      130.000000\n",
      "25%      307.250000\n",
      "50%      371.000000\n",
      "75%      464.000000\n",
      "max      930.000000\n",
      "Name: character_count, dtype: float64\n"
     ]
    }
   ],
   "source": [
    "print(narrative_adult['character_count'].describe())\n",
    "print(narrative_child['character_count'].describe())\n",
    "print(narrative_neonate['character_count'].describe())"
   ]
  },
  {
   "cell_type": "code",
   "execution_count": 32,
   "metadata": {},
   "outputs": [
    {
     "name": "stdout",
     "output_type": "stream",
     "text": [
      "GPT3 Input Cost per VA record at $0.0005 per token\n",
      "Adult:     $0.00019\n",
      "Child:     $0.00018\n",
      "Neonate:   $0.00020\n",
      "GPT4 Input Cost per VA record at $0.03 per token\n",
      "Adult:     $0.01148\n",
      "Child:     $0.01096\n",
      "Neonate:   $0.01175\n"
     ]
    }
   ],
   "source": [
    "gpt3_rates = 0.0005\n",
    "gpt4_rates = 0.03\n",
    "label_width = 10\n",
    "\n",
    "print(f\"GPT3 Input Cost per VA record at ${gpt3_rates} per token\")\n",
    "print(f\"{'Adult:'.ljust(label_width)} ${narrative_adult['character_count'].mean() / 1000 * gpt3_rates:.5f}\")\n",
    "print(f\"{'Child:'.ljust(label_width)} ${narrative_child['character_count'].mean() / 1000 * gpt3_rates:.5f}\")\n",
    "print(f\"{'Neonate:'.ljust(label_width)} ${narrative_neonate['character_count'].mean() / 1000 * gpt3_rates:.5f}\")\n",
    "\n",
    "print(f\"GPT4 Input Cost per VA record at ${gpt4_rates} per token\")\n",
    "print(f\"{'Adult:'.ljust(label_width)} ${narrative_adult['character_count'].mean() / 1000 * gpt4_rates:.5f}\")\n",
    "print(f\"{'Child:'.ljust(label_width)} ${narrative_child['character_count'].mean() / 1000 * gpt4_rates:.5f}\")\n",
    "print(f\"{'Neonate:'.ljust(label_width)} ${narrative_neonate['character_count'].mean() / 1000 * gpt4_rates:.5f}\")\n",
    "\n",
    "\n"
   ]
  }
 ],
 "metadata": {
  "kernelspec": {
   "display_name": "base",
   "language": "python",
   "name": "python3"
  },
  "language_info": {
   "codemirror_mode": {
    "name": "ipython",
    "version": 3
   },
   "file_extension": ".py",
   "mimetype": "text/x-python",
   "name": "python",
   "nbconvert_exporter": "python",
   "pygments_lexer": "ipython3",
   "version": "3.9.13"
  }
 },
 "nbformat": 4,
 "nbformat_minor": 2
}
