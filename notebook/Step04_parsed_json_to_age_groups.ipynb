{
 "cells": [
  {
   "cell_type": "code",
   "execution_count": 1,
   "metadata": {},
   "outputs": [
    {
     "data": {
      "text/plain": [
       "'\\n    This script splits the JSON into multiple files, according to ROWID_SPLITS use to separate round 1 and round 2 data.\\n'"
      ]
     },
     "execution_count": 1,
     "metadata": {},
     "output_type": "execute_result"
    }
   ],
   "source": [
    "\"\"\"\n",
    "    This script splits the JSON into multiple files, according to ROWID_SPLITS use to separate round 1 and round 2 data.\n",
    "\"\"\""
   ]
  },
  {
   "cell_type": "code",
   "execution_count": 2,
   "metadata": {},
   "outputs": [
    {
     "name": "stdout",
     "output_type": "stream",
     "text": [
      "Creating directory: ./healsl_rd1to2_rapid_gpt3_v2b_2024_03_11\n"
     ]
    }
   ],
   "source": [
    "import os\n",
    "import pandas as pd\n",
    "import numpy as np\n",
    "import json\n",
    "import re\n",
    "\n",
    "# Define the name of the data file\n",
    "DATA_FILE = \"all_data_0309_parsed.csv\"\n",
    "\n",
    "EXPORT_DIR = \"./healsl_rd1to2_rapid_gpt3_v2b_2024_03_11\"\n",
    "# EXPORT_CSV = True\n",
    "# EXPORT_JSON = False\n",
    "\n",
    "# # \n",
    "# ROWID_SPLITS = {\n",
    "#     'rd1': [\n",
    "#         '../data_202402/healsl_rd1_adult_v1.csv',\n",
    "#         '../data_202402/healsl_rd1_child_v1.csv',\n",
    "#         '../data_202402/healsl_rd1_neo_v1.csv',\n",
    "#     ],\n",
    "#     'rd2': [\n",
    "#         '../data_202402/healsl_rd2_child_v1.csv',\n",
    "#         '../data_202402/healsl_rd2_adult_v1.csv',\n",
    "#         '../data_202402/healsl_rd2_neo_v1.csv',\n",
    "#     ],\n",
    "# }\n",
    "\n",
    "if not os.path.exists(EXPORT_DIR):\n",
    "    print(f\"Creating directory: {EXPORT_DIR}\")\n",
    "    os.makedirs(EXPORT_DIR)\n"
   ]
  },
  {
   "cell_type": "code",
   "execution_count": 3,
   "metadata": {},
   "outputs": [],
   "source": [
    "df = pd.read_csv(DATA_FILE)"
   ]
  },
  {
   "cell_type": "code",
   "execution_count": 4,
   "metadata": {},
   "outputs": [],
   "source": [
    "df[df['round'] == \"rd1\"].to_csv(f\"{EXPORT_DIR}/healsl_rd1_rapid_gpt3_v2b.csv\", index=False)\n",
    "df[df['round'] == \"rd2\"].to_csv(f\"{EXPORT_DIR}/healsl_rd2_rapid_gpt3_v2b.csv\", index=False)\n",
    "\n"
   ]
  },
  {
   "cell_type": "code",
   "execution_count": 5,
   "metadata": {},
   "outputs": [],
   "source": [
    "# # F(x): Initialize the data storage dictionary\n",
    "\n",
    "# def load_data(filename=DATA_FILE):\n",
    "#     if not filename.endswith('.json'):\n",
    "#         raise ValueError('Invalid file type. Please provide a JSON file.')\n",
    "    \n",
    "#     if not os.path.exists(filename):\n",
    "#         raise FileNotFoundError('The file does not exist.')\n",
    "    \n",
    "#     with open(filename, 'r') as file:\n",
    "#         data = json.load(file)\n",
    "    \n",
    "#     return data\n",
    "\n",
    "# def save_data(data, filename=DATA_FILE):\n",
    "#     \"\"\"\n",
    "#     Saves data to a JSON file.\n",
    "\n",
    "#     This function opens a file with the given filename in write mode and writes the data to it in JSON format.\n",
    "\n",
    "#     Args:\n",
    "#         data (dict): The data to be saved.\n",
    "#         filename (str, optional): The name of the file to save data to. Defaults to DATA_FILE.\n",
    "#     \"\"\"\n",
    "#     with open(filename, 'w') as file:\n",
    "#         json.dump(data, file)"
   ]
  },
  {
   "cell_type": "code",
   "execution_count": 6,
   "metadata": {},
   "outputs": [],
   "source": [
    "# # F(x): To return datetime as a string\n",
    "# from datetime import datetime\n",
    "\n",
    "# def get_datetime_string():\n",
    "#     return datetime.now().strftime('%Y%m%d_%H%M')"
   ]
  },
  {
   "cell_type": "code",
   "execution_count": 7,
   "metadata": {},
   "outputs": [],
   "source": [
    "# import warnings\n",
    "\n",
    "# with warnings.catch_warnings():\n",
    "#     # Suppress warnings mainly dtype warnings\n",
    "#     warnings.simplefilter(\"ignore\")\n",
    "#     q_rowids = {}\n",
    "\n",
    "#     for group, group_filenames in ROWID_SPLITS.items():\n",
    "#         print(f\"Processing \\\"{group}\\\" with {len(group_filenames)} filepaths...\")\n",
    "#         temp_list = []\n",
    "#         for g in group_filenames:\n",
    "#             # print(g)\n",
    "#             if not os.path.exists(g):\n",
    "#                 raise FileNotFoundError(f\"The file {g} does not exist.\")\n",
    "            \n",
    "#             temp_df = pd.read_csv(g)\n",
    "\n",
    "#             print(f\"{g} - {len(temp_df)} rows\", end='\\n')\n",
    "            \n",
    "#             # q_rowids[group] = temp_df['rowid'].tolist()\n",
    "#             temp_list.extend(temp_df['rowid'].tolist())\n",
    "\n",
    "#         # print(f\"Getting {group} from {group_filenames}\", end=' > ')\n",
    "#         # print(f\"Done. {temp_df.shape[0]} rows found.\", end=' > ')\n",
    "#         # print(f\"Appended.\")\n",
    "        \n",
    "#         print(f\"Total rowids for {group}: {len(temp_list)}\\n\")\n",
    "#         q_rowids[group] = temp_list\n",
    "#         del(temp_df)\n"
   ]
  },
  {
   "cell_type": "code",
   "execution_count": 8,
   "metadata": {},
   "outputs": [],
   "source": [
    "# df = pd.DataFrame(load_data(DATA_FILE))\n",
    "\n",
    "# if not EXPORT_CSV and not EXPORT_JSON:\n",
    "#     raise ValueError(\"Both EXPORT_CSV and EXPORT_JSON cannot be False. Please set at least one to True.\")\n",
    "\n",
    "# if not os.path.exists(EXPORT_DIR):\n",
    "#     print(f\"Creating directory: {EXPORT_DIR}\")\n",
    "#     os.makedirs(EXPORT_DIR)\n",
    "\n",
    "# for label, rowids in q_rowids.items():\n",
    "#     selected_rows_df = df[df['rowid'].isin(rowids)]\n",
    "\n",
    "#     if selected_rows_df.empty:\n",
    "#         print(f\"Warning: The selected for {label} returned an empty DataFrame.\")\n",
    "\n",
    "#     try:\n",
    "#         if EXPORT_CSV:\n",
    "#             selected_rows_df.to_csv(f\"{EXPORT_DIR}/healsl_{label}_rapid_gpt3_v2a.csv\", index=False)\n",
    "#         if EXPORT_JSON:\n",
    "#             selected_rows_df.to_json(f\"{EXPORT_DIR}/healsl_{label}_rapid_gpt3_v2a_{get_datetime_string()}.json\", orient='records')\n",
    "#     except Exception as e:\n",
    "#         print(f\"An error occurred while exporting DataFrames: {e}\")\n"
   ]
  }
 ],
 "metadata": {
  "kernelspec": {
   "display_name": "proj_rapid_healsl_chatgpt",
   "language": "python",
   "name": "python3"
  },
  "language_info": {
   "codemirror_mode": {
    "name": "ipython",
    "version": 3
   },
   "file_extension": ".py",
   "mimetype": "text/x-python",
   "name": "python",
   "nbconvert_exporter": "python",
   "pygments_lexer": "ipython3",
   "version": "3.9.13"
  }
 },
 "nbformat": 4,
 "nbformat_minor": 2
}
