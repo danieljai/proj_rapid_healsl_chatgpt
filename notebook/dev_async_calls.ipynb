{
 "cells": [
  {
   "cell_type": "code",
   "execution_count": 1,
   "metadata": {},
   "outputs": [],
   "source": [
    "import asyncio\n",
    "import pandas as pd\n",
    "import random\n",
    "import time\n",
    "import logging\n",
    "\n",
    "\n",
    "# Create a logger and set its level\n",
    "logger = logging.getLogger()\n",
    "logger.setLevel(logging.DEBUG)\n",
    "\n",
    "# Create a handler with a formatter and add it to the logger\n",
    "handler = logging.StreamHandler()\n",
    "handler.setFormatter(\n",
    "    logging.Formatter(fmt='%(asctime)s:%(msecs)03d[%(funcName)s]: %(message)s', datefmt='%H:%M:%S')\n",
    ")\n",
    "\n",
    "logger.addHandler(handler)\n",
    "\n"
   ]
  },
  {
   "cell_type": "code",
   "execution_count": 7,
   "metadata": {},
   "outputs": [],
   "source": [
    "async def process_row(index, row, col_number):\n",
    "    # Randomize a flag\n",
    "    flag = random.randint(0, 1)\n",
    "    \n",
    "    # Apply transformation based on the flag\n",
    "    if flag == 0:\n",
    "        processed_number = row[col_number]\n",
    "    else:\n",
    "        processed_number = row[col_number] * 0.5\n",
    "    \n",
    "    # Artificially wait\n",
    "    # await asyncio.sleep(0)  # Yield control to other coroutines\n",
    "    logging.debug(f\"[P#{index}]Start halt {processed_number} seconds...\")\n",
    "    await asyncio.sleep(processed_number)  # Simulate I/O wait using time.sleep()\n",
    "    \n",
    "    logging.debug(f\"[P#{index}]Done halt.\")\n",
    "    return processed_number + 0.1\n",
    "\n",
    "async def process_batch(batch, col_number):\n",
    "    logging.debug(f\"Begin process_batch()...\")\n",
    "    logging.debug(f\"Processing batch of {len(batch)} rows\")\n",
    "    tasks = []\n",
    "    for index, row in batch.iterrows():\n",
    "        task = process_row(index, row, col_number)\n",
    "        tasks.append(task)\n",
    "    logging.debug(f\"End process_batch(), returning {len(tasks)} tasks\")\n",
    "    return await asyncio.gather(*tasks)\n"
   ]
  },
  {
   "cell_type": "code",
   "execution_count": 10,
   "metadata": {},
   "outputs": [
    {
     "name": "stderr",
     "output_type": "stream",
     "text": [
      "02:50:04:585[<cell line: 2>]: Creating DataFrame...\n",
      "02:50:04:587[<cell line: 4>]: Dataframe created: (1000, 1)\n"
     ]
    }
   ],
   "source": [
    "# Create a DataFrame\n",
    "logging.debug(f\"Creating DataFrame...\")\n",
    "df = pd.DataFrame({'Numbers': [random.randint(4, 8) for _ in range(1000)]})\n",
    "logging.debug(f\"Dataframe created: {df.shape}\")\n"
   ]
  },
  {
   "cell_type": "code",
   "execution_count": 12,
   "metadata": {},
   "outputs": [
    {
     "name": "stderr",
     "output_type": "stream",
     "text": [
      "03:04:41:624[<cell line: 5>]: Processing rows 0 to 5...\n",
      "03:04:41:625[<cell line: 5>]: Putting batch 0 to process_batch(), assign to processed_batch, and timeout after 5 seconds...\n",
      "03:04:41:626[process_batch]: Begin process_batch()...\n",
      "03:04:41:626[process_batch]: Processing batch of 5 rows\n",
      "03:04:41:627[process_batch]: End process_batch(), returning 5 tasks\n",
      "03:04:41:627[process_row]: [P#0]Start halt 4 seconds...\n",
      "03:04:41:628[process_row]: [P#1]Start halt 6 seconds...\n",
      "03:04:41:629[process_row]: [P#2]Start halt 2.5 seconds...\n",
      "03:04:41:629[process_row]: [P#3]Start halt 2.0 seconds...\n",
      "03:04:41:630[process_row]: [P#4]Start halt 2.0 seconds...\n",
      "03:04:43:631[process_row]: [P#3]Done halt.\n",
      "03:04:43:631[process_row]: [P#4]Done halt.\n",
      "03:04:44:138[process_row]: [P#2]Done halt.\n",
      "03:04:45:645[process_row]: [P#0]Done halt.\n",
      "03:04:46:643[<cell line: 5>]: Putting batch 1 to process_batch(), assign to processed_batch, and timeout after 5 seconds...\n",
      "03:04:46:644[process_batch]: Begin process_batch()...\n",
      "03:04:46:644[process_batch]: Processing batch of 5 rows\n",
      "03:04:46:645[process_batch]: End process_batch(), returning 5 tasks\n",
      "03:04:46:646[process_row]: [P#0]Start halt 4 seconds...\n",
      "03:04:46:646[process_row]: [P#1]Start halt 3.0 seconds...\n",
      "03:04:46:646[process_row]: [P#2]Start halt 2.5 seconds...\n",
      "03:04:46:647[process_row]: [P#3]Start halt 4 seconds...\n",
      "03:04:46:647[process_row]: [P#4]Start halt 2.0 seconds...\n"
     ]
    },
    {
     "name": "stdout",
     "output_type": "stream",
     "text": [
      "Timeout occurred for batch 0, retrying...\n"
     ]
    },
    {
     "name": "stderr",
     "output_type": "stream",
     "text": [
      "03:04:48:663[process_row]: [P#4]Done halt.\n",
      "03:04:49:157[process_row]: [P#2]Done halt.\n",
      "03:04:49:650[process_row]: [P#1]Done halt.\n",
      "03:04:50:661[process_row]: [P#0]Done halt.\n",
      "03:04:50:661[process_row]: [P#3]Done halt.\n",
      "03:04:50:662[<cell line: 5>]: Extend storage with processed_batch...\n"
     ]
    },
    {
     "name": "stdout",
     "output_type": "stream",
     "text": [
      "Processed batch: [4.1, 3.1, 2.6, 4.1, 2.1]\n",
      "All processed values: [4.1, 3.1, 2.6, 4.1, 2.1]\n"
     ]
    }
   ],
   "source": [
    "processed_values = []\n",
    "MAX_RETRIES = 3  # Define the maximum number of retries\n",
    "\n",
    "# Process 5 rows at a time\n",
    "for i in range(0, len(df), 5):\n",
    "    logging.debug(f\"Processing rows {i} to {i+5}...\")\n",
    "    batch = df.iloc[i:i+5]\n",
    "        \n",
    "    # try:\n",
    "    #     logging.debug(f\"Puting batch {i} to process_batch(), assign to processed_batch, and timeout after 5 seconds...\")\n",
    "    #     processed_batch = await asyncio.wait_for(process_batch(batch, 'Numbers'), timeout=5)\n",
    "    #     print(\"Processed batch:\", processed_batch)\n",
    "    #     logging.debug(f\"Extend storage with processed_batch...\")\n",
    "    #     processed_values.extend(processed_batch)\n",
    "    # except asyncio.TimeoutError:\n",
    "    #     print(\"Timeout occurred for batch\")\n",
    "    \n",
    "\n",
    "    for i in range(MAX_RETRIES):\n",
    "        try:\n",
    "            logging.debug(f\"Putting batch {i} to process_batch(), assign to processed_batch, and timeout after 5 seconds...\")\n",
    "            processed_batch = await asyncio.wait_for(process_batch(batch, 'Numbers'), timeout=5)\n",
    "            print(\"Processed batch:\", processed_batch)\n",
    "            logging.debug(f\"Extend storage with processed_batch...\")\n",
    "            processed_values.extend(processed_batch)\n",
    "            break  # If the process_batch function completes without a TimeoutError, break the loop\n",
    "        except asyncio.TimeoutError:\n",
    "            print(f\"Timeout occurred for batch {i}, retrying...\")\n",
    "            if i == MAX_RETRIES - 1:  # If this was the last retry\n",
    "                print(f\"Failed to process batch {i} after {MAX_RETRIES} attempts\")\n",
    "        \n",
    "    break\n",
    "\n",
    "print(\"All processed values:\", processed_values)\n"
   ]
  }
 ],
 "metadata": {
  "kernelspec": {
   "display_name": "base",
   "language": "python",
   "name": "python3"
  },
  "language_info": {
   "codemirror_mode": {
    "name": "ipython",
    "version": 3
   },
   "file_extension": ".py",
   "mimetype": "text/x-python",
   "name": "python",
   "nbconvert_exporter": "python",
   "pygments_lexer": "ipython3",
   "version": "3.9.13"
  }
 },
 "nbformat": 4,
 "nbformat_minor": 2
}
